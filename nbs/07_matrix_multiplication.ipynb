{
 "cells": [
  {
   "cell_type": "markdown",
   "id": "d4bfe47e",
   "metadata": {},
   "source": [
    "# Matrix Multiplication \n",
    "\n",
    "In simple terms, mathematically,  \n",
    "\n",
    "If **A** is an *m × n* matrix and **B** is an *n × p* matrix:\n",
    "\n",
    "$$\n",
    "\\mathbf{A} = \\begin{pmatrix}\n",
    " a_{11} & a_{12} & \\cdots & a_{1n} \\\\\n",
    " a_{21} & a_{22} & \\cdots & a_{2n} \\\\\n",
    " \\vdots & \\vdots & \\ddots & \\vdots \\\\\n",
    " a_{m1} & a_{m2} & \\cdots & a_{mn} \\\\\n",
    "\\end{pmatrix},\\quad\n",
    "\\mathbf{B} = \\begin{pmatrix}\n",
    " b_{11} & b_{12} & \\cdots & b_{1p} \\\\\n",
    " b_{21} & b_{22} & \\cdots & b_{2p} \\\\\n",
    " \\vdots & \\vdots & \\ddots & \\vdots \\\\\n",
    " b_{n1} & b_{n2} & \\cdots & b_{np} \\\\\n",
    "\\end{pmatrix}\n",
    "$$\n",
    "\n",
    "Then, the matrix product **C = AB**, where **C** is an *m × p* matrix, is defined as:\n",
    "\n",
    "$$\n",
    "\\mathbf{C} = \\begin{pmatrix}\n",
    " c_{11} & c_{12} & \\cdots & c_{1p} \\\\\n",
    " c_{21} & c_{22} & \\cdots & c_{2p} \\\\\n",
    " \\vdots & \\vdots & \\ddots & \\vdots \\\\\n",
    " c_{m1} & c_{m2} & \\cdots & c_{mp} \\\\\n",
    "\\end{pmatrix}\n",
    "$$\n",
    "\n",
    "where each element is calculated by:\n",
    "\n",
    "$$\n",
    "c_{ij} = \\sum_{k=1}^{n} a_{ik} \\cdot b_{kj}\n",
    "$$\n",
    "\n",
    "for all $$ i = 1, 2, \\dots, m $$ and $$ j = 1, 2, \\dots, p $$.\n"
   ]
  },
  {
   "cell_type": "code",
   "execution_count": null,
   "id": "5ee70337",
   "metadata": {},
   "outputs": [],
   "source": [
    "#| default_exp matrix_multiply"
   ]
  },
  {
   "cell_type": "code",
   "execution_count": null,
   "id": "a6336dd7",
   "metadata": {},
   "outputs": [],
   "source": [
    "#| export\n",
    "from typing import List, Tuple\n",
    "import numpy as np\n",
    "import torch"
   ]
  },
  {
   "cell_type": "code",
   "execution_count": null,
   "id": "df123dc8",
   "metadata": {},
   "outputs": [],
   "source": [
    "#| exports\n",
    "\n",
    "def matrix_multiply(a: List[List[float]], # input matrix of size (m, n)\n",
    "                    b: List[List[float]] # input matrix of size (n, p)\n",
    "                    ) -> List[List[float]]: # output matrix of size (m, p)\n",
    "    a = np.array(a)\n",
    "    b = np.array(b)\n",
    "    ar, ac = a.shape\n",
    "    br, bc = b.shape\n",
    "    if ac != br:\n",
    "        raise ValueError(\"Incompatible shapes for matrix multiplication\")\n",
    "    result = np.zeros((ar, bc))\n",
    "    for i in range(ar):\n",
    "        for j in range(bc):\n",
    "            for k in range(ac): # or br works too\n",
    "                result[i][j] += a[i][k] * b[k][j]\n",
    "    return result.tolist()"
   ]
  }
 ],
 "metadata": {},
 "nbformat": 4,
 "nbformat_minor": 5
}
