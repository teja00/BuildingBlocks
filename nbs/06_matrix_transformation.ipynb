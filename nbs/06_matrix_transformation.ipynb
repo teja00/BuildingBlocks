{
 "cells": [
  {
   "cell_type": "markdown",
   "id": "a729ecfd",
   "metadata": {},
   "source": [
    "# Matrix Transformation \n",
    "\n",
    "> Transformation based on the equation: $$ T^{-1} A S$$ Given A, T and S matrices"
   ]
  },
  {
   "cell_type": "code",
   "execution_count": null,
   "id": "13d0a8e5",
   "metadata": {},
   "outputs": [],
   "source": [
    "#| default_exp matrix_transformation"
   ]
  },
  {
   "cell_type": "code",
   "execution_count": null,
   "id": "27a11771",
   "metadata": {},
   "outputs": [],
   "source": [
    "#| export\n",
    "from typing import List, Union\n",
    "import numpy as np"
   ]
  },
  {
   "cell_type": "code",
   "execution_count": null,
   "id": "df1a7cac",
   "metadata": {},
   "outputs": [],
   "source": [
    "#| exports\n",
    "\n",
    "def determinant_matrix(matrix: np.ndarray # matrix of size (2x2)\n",
    "                     ) -> float: # determinant of the matrix\n",
    "    \"\"\"\n",
    "    Calculate the determinant of a 2x2 matrix.\n",
    "    \"\"\"\n",
    "    if matrix.shape != (2, 2):\n",
    "        raise ValueError(\"Matrix must be 2x2.\")\n",
    "    \n",
    "    a, b, c, d = matrix.flatten()\n",
    "    return a * d - b * c"
   ]
  },
  {
   "cell_type": "code",
   "execution_count": null,
   "id": "88c1aaf5",
   "metadata": {},
   "outputs": [],
   "source": [
    "#| exports\n",
    "\n",
    "def check_invertibility(matrix: np.ndarray # matrix of size (2x2)\n",
    "                        ) -> bool: # True or False\n",
    "    \"\"\"\n",
    "    Check if a matrix is invertible.\n",
    "    \"\"\"\n",
    "    determinant = determinant_matrix(matrix)\n",
    "    return determinant != 0  "
   ]
  },
  {
   "cell_type": "code",
   "execution_count": null,
   "id": "3339e472",
   "metadata": {},
   "outputs": [],
   "source": [
    "#| exports\n",
    "\n",
    "def transform_matrix(A: list[list[Union[int, float]]], # Matrix of shape (n, n)\n",
    "\t\t\t\t\tT: list[list[Union[int, float]]], # Matrix of shape (n , m)\n",
    "\t\t\t\t\tS: list[list[Union[int, float]]]  # Matrix of shape (n , k)\n",
    "                    ) -> list[list[Union[int, float]]]: # Matrix of shape (m, k)\n",
    "\t\"\"\"\n",
    "\tTransform a matrix A using a transformation matrix T and a scaling matrix S.\n",
    "\t\"\"\"\n",
    "\tif not check_invertibility(np.array(T)) and not check_invertibility(np.array(S)):\n",
    "\t\treturn [-1]\n",
    "\tT = np.array(T)\n",
    "\ta, b, c, d = T.flatten()\n",
    "\tdeterminant = determinant_matrix(T)\n",
    "\tinverse_T = [[d/ determinant, -b/ determinant], [-c/ determinant, a/ determinant]]\n",
    "\treturn inverse_T @ np.array(A) @ S\n"
   ]
  },
  {
   "cell_type": "code",
   "execution_count": null,
   "id": "a729007e",
   "metadata": {},
   "outputs": [],
   "source": [
    "#| hide\n",
    "import nbdev; nbdev.nbdev_export()"
   ]
  }
 ],
 "metadata": {
  "kernelspec": {
   "display_name": "python3",
   "language": "python",
   "name": "python3"
  }
 },
 "nbformat": 4,
 "nbformat_minor": 5
}
