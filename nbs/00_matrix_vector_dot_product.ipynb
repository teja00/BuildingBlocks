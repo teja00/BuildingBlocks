{
 "cells": [
  {
   "cell_type": "markdown",
   "metadata": {},
   "source": [
    "# Matrix Vector Dot Product\n",
    "\n",
    "> This is a python Function that computes the dot product of a matrix and a vector"
   ]
  },
  {
   "cell_type": "code",
   "execution_count": null,
   "metadata": {},
   "outputs": [],
   "source": [
    "#| default_exp matrix_vector_dot_product"
   ]
  },
  {
   "cell_type": "code",
   "execution_count": null,
   "metadata": {},
   "outputs": [],
   "source": [
    "#| export\n",
    "\n",
    "from typing import List, Optional, Tuple, Union"
   ]
  },
  {
   "cell_type": "code",
   "execution_count": null,
   "metadata": {},
   "outputs": [],
   "source": [
    "#| hide\n",
    "from nbdev.showdoc import *"
   ]
  },
  {
   "cell_type": "code",
   "execution_count": null,
   "metadata": {},
   "outputs": [],
   "source": [
    "#| exports\n",
    "def matrix_dot_vector(a: List[List[Union[int, float]]] # Matrix ' a' of size m x n\n",
    "                      , b: List[Union[int, float]] # Vector ' b' of size n x 1\n",
    "                      ) -> List[Union[int, float]]: # Resulting vector of size m x 1:\n",
    "    if not all(len(row) == len(b) for row in a):\n",
    "        return -1\n",
    "    result = []\n",
    "    for row in a:\n",
    "        dot = sum(x * y for x, y in zip(row, b))\n",
    "        result.append(dot)\n",
    "    return result"
   ]
  },
  {
   "cell_type": "code",
   "execution_count": null,
   "metadata": {},
   "outputs": [],
   "source": [
    "#| hide\n",
    "import nbdev; nbdev.nbdev_export()"
   ]
  }
 ],
 "metadata": {
  "kernelspec": {
   "display_name": "python3",
   "language": "python",
   "name": "python3"
  }
 },
 "nbformat": 4,
 "nbformat_minor": 4
}
