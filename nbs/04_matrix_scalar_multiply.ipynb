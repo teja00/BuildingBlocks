{
 "cells": [
  {
   "cell_type": "markdown",
   "metadata": {},
   "source": [
    "# Matrix Scalar Multiply\n",
    "\n",
    "> different implementation of Matrix and scalar multiplication "
   ]
  },
  {
   "cell_type": "code",
   "execution_count": null,
   "metadata": {},
   "outputs": [],
   "source": [
    "#| default_exp matrix_scalar_multiply"
   ]
  },
  {
   "cell_type": "code",
   "execution_count": null,
   "metadata": {},
   "outputs": [],
   "source": [
    "#| export\n",
    "from typing import List, Union\n",
    "import numpy as np\n",
    "import torch"
   ]
  },
  {
   "cell_type": "markdown",
   "metadata": {},
   "source": [
    "## Rudimentary way of doing matrix scalar multiplication"
   ]
  },
  {
   "cell_type": "code",
   "execution_count": null,
   "metadata": {},
   "outputs": [],
   "source": [
    "#| exports\n",
    "\n",
    "def matrix_scalar_multiply( matrix: list[list[Union[int,float]]], # Matrix of size m,n\n",
    "                            scalar: Union[int,float] # scalar int or float\n",
    "                           ) -> list[list[Union[int,float]]]: # Matrix of size m, n\n",
    "    matrix = np.array(matrix)\n",
    "    result = [(row * scalar).tolist() for row in matrix]\n",
    "    return result"
   ]
  },
  {
   "cell_type": "markdown",
   "metadata": {},
   "source": [
    "## Matrix Scalar multiplication using numpy"
   ]
  },
  {
   "cell_type": "code",
   "execution_count": null,
   "metadata": {},
   "outputs": [],
   "source": [
    "#| exports\n",
    "def matrix_scalar_multiply_numpy( matrix: list[list[Union[int,float]]], # Matrix of size m,n\n",
    "                            scalar: Union[int,float] # scalar int or float\n",
    "                           ) -> list[list[Union[int,float]]]: # Matrix of size m, n\n",
    "    result = np.multiply(matrix, scalar)\n",
    "    return result"
   ]
  },
  {
   "cell_type": "markdown",
   "metadata": {},
   "source": [
    "## Matrix Scalar multiplication using torch"
   ]
  },
  {
   "cell_type": "code",
   "execution_count": null,
   "metadata": {},
   "outputs": [],
   "source": [
    "#| exports\n",
    "\n",
    "def matrix_scalar_multiply_torch( matrix: list[list[Union[int,float]]], # Matrix of size m,n\n",
    "                            scalar: Union[int,float] # scalar int or float\n",
    "                           ) -> list[list[Union[int,float]]]: # Matrix of size m, n\n",
    "    result = torch.mul(matrix, scalar)\n",
    "    return result"
   ]
  }
 ],
 "metadata": {
  "kernelspec": {
   "display_name": "python3",
   "language": "python",
   "name": "python3"
  }
 },
 "nbformat": 4,
 "nbformat_minor": 2
}
