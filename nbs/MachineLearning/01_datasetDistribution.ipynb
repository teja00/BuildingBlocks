{
 "cells": [
  {
   "cell_type": "markdown",
   "id": "e4447005",
   "metadata": {},
   "source": [
    "## Data Distribution\n",
    "\n",
    "> the main idea here is to check the dataset distribution of train and test split."
   ]
  },
  {
   "cell_type": "code",
   "execution_count": null,
   "id": "1e180d45",
   "metadata": {},
   "outputs": [],
   "source": [
    "#| default_exp datasetDistribution"
   ]
  },
  {
   "cell_type": "code",
   "execution_count": null,
   "id": "53547dc5",
   "metadata": {},
   "outputs": [],
   "source": []
  },
  {
   "cell_type": "code",
   "execution_count": null,
   "id": "1822f14b",
   "metadata": {},
   "outputs": [],
   "source": [
    "#| hide\n",
    "import nbdev; nbdev.nbdev_export()"
   ]
  }
 ],
 "metadata": {
  "kernelspec": {
   "display_name": "python3",
   "language": "python",
   "name": "python3"
  }
 },
 "nbformat": 4,
 "nbformat_minor": 5
}
