{
 "cells": [
  {
   "cell_type": "markdown",
   "metadata": {},
   "source": [
    "# Reshape of a Matrix\n",
    "\n",
    "> Python Function that computes the Reshaping of a matrix"
   ]
  },
  {
   "cell_type": "code",
   "execution_count": null,
   "metadata": {},
   "outputs": [],
   "source": [
    "#| default_exp reshape_matrix"
   ]
  },
  {
   "cell_type": "code",
   "execution_count": null,
   "metadata": {},
   "outputs": [],
   "source": [
    "#| export\n",
    "from typing import List, Union\n",
    "import numpy as np"
   ]
  },
  {
   "cell_type": "markdown",
   "metadata": {},
   "source": [
    "## Algorithm Explanation\n",
    "\n",
    "the line of code would flatten the matrix of size m by n => which would have a size m*n \n",
    "```python\n",
    "flat = np.array(a).flatten()\n",
    "```\n",
    "\n",
    "The below line of code is a list comprehension, and we are picking blocks of cols <br>\n",
    "let's say cols = 10<br>\n",
    "i.e from <br>\n",
    "[0, 10] <br>\n",
    "[10, 20] <br>\n",
    "```python\n",
    "reshaped_matrix = [\n",
    "        flat[i * new_shape[1] : (i + 1) * new_shape[1]].tolist()\n",
    "        for i in range(new_shape[0])\n",
    "    ]\n",
    "```\n"
   ]
  },
  {
   "cell_type": "code",
   "execution_count": null,
   "metadata": {},
   "outputs": [],
   "source": [
    "#| exports\n",
    "\n",
    "def reshape_matrix( a: List[List[Union[int, float]]], # matrix a of size (m, n) of int or float\n",
    "                    new_shape: tuple[int, int] # new shape tuple to reshape into (a, b)\n",
    "                    ) -> list[list[Union[int,float]]]: # output matrix of shape (a, b)\n",
    "    flat = np.array(a).flatten()\n",
    "\n",
    "    # Validate the reshape is possible\n",
    "    if len(flat) != new_shape[0] * new_shape[1]:\n",
    "        return []\n",
    "\n",
    "    # Manually reshape using slicing\n",
    "    reshaped_matrix = [\n",
    "        flat[i * new_shape[1] : (i + 1) * new_shape[1]].tolist()\n",
    "        for i in range(new_shape[0])\n",
    "    ]\n",
    "\n",
    "    return reshaped_matrix"
   ]
  },
  {
   "cell_type": "code",
   "execution_count": null,
   "metadata": {},
   "outputs": [],
   "source": [
    "#| hide\n",
    "import nbdev; nbdev.nbdev_export()"
   ]
  }
 ],
 "metadata": {
  "kernelspec": {
   "display_name": "python3",
   "language": "python",
   "name": "python3"
  }
 },
 "nbformat": 4,
 "nbformat_minor": 2
}
