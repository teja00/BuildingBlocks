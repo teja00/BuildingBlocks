{
 "cells": [
  {
   "cell_type": "markdown",
   "metadata": {},
   "source": [
    "# Eigen Value of Matrix\n"
   ]
  },
  {
   "cell_type": "markdown",
   "metadata": {},
   "source": [
    "Before diving into the function, let's first understand how to calculate eigenvalues.\n",
    "\n",
    "**Eigenvalues of a matrix** offer significant insight into the matrix's behavior, particularly in the context of linear transformations and systems of linear equations.\n",
    "\n",
    "### Definition\n",
    "\n",
    "For a square matrix $A$, eigenvalues are scalars $\\lambda$ that satisfy the equation for some non-zero vector $v$ (eigenvector):\n",
    "\n",
    "$$\n",
    "Av = \\lambda v\n",
    "$$\n",
    "\n",
    "### Calculation for a $2 \\times 2$ Matrix\n",
    "\n",
    "The eigenvalues of a $2 \\times 2$ matrix $A$, given by:\n",
    "\n",
    "$$\n",
    "A = \\begin{pmatrix} a & b \\\\ c & d \\end{pmatrix}\n",
    "$$\n",
    "\n",
    "are determined by solving the characteristic equation:\n",
    "\n",
    "$$\n",
    "\\det(A - \\lambda I) = 0\n",
    "$$\n",
    "\n",
    "This simplifies to a quadratic equation:\n",
    "\n",
    "$$\n",
    "\\lambda^2 - \\text{tr}(A)\\lambda + \\det(A) = 0\n",
    "$$\n",
    "\n",
    "Here, the trace of $A$, denoted as $\\text{tr}(A)$, is $a + d$ and the determinant of $A$, denoted as $\\det(A)$, is $ad - bc$.\n",
    "Solving this equation yields the eigenvalues, $\\lambda$.\n",
    "\n",
    "### Significance\n",
    "\n",
    "Understanding eigenvalues is essential for analyzing the effects of linear transformations represented by the matrix. They are crucial in various applications, including:\n",
    "\n",
    "- Stability analysis\n",
    "- Vibration analysis\n",
    "- Principal Component Analysis (PCA) in machine learning\n"
   ]
  },
  {
   "cell_type": "code",
   "execution_count": null,
   "metadata": {},
   "outputs": [],
   "source": [
    "#| default_exp eigen_value_matrix"
   ]
  },
  {
   "cell_type": "code",
   "execution_count": null,
   "metadata": {},
   "outputs": [],
   "source": [
    "#| export\n",
    "from typing import Union\n",
    "import numpy as np"
   ]
  },
  {
   "cell_type": "code",
   "execution_count": null,
   "metadata": {},
   "outputs": [],
   "source": [
    "#| exports\n",
    "\n",
    "def calculate_eigenvalues_2by2(matrix: list[list[Union[float,int]]] # matrix of size 2 x 2\n",
    "\t\t\t\t\t\t  ) -> list[float]: # eigenvalues of the matrix 1 x 2\n",
    "    trace = matrix[0][0] + matrix[1][1]\n",
    "    det = matrix[0][0] * matrix[1][1] - matrix[0][1] * matrix[1][0]\n",
    "    sqrt_value = np.sqrt(trace ** 2 - 4 * det)\n",
    "    eigen1 = (trace + sqrt_value) / 2\n",
    "    eigen2 = (trace - sqrt_value) / 2\n",
    "    return [eigen1, eigen2]"
   ]
  },
  {
   "cell_type": "markdown",
   "metadata": {},
   "source": [
    "## Eigen Value using numpy library for an N x N Matrix"
   ]
  },
  {
   "cell_type": "code",
   "execution_count": null,
   "metadata": {},
   "outputs": [],
   "source": [
    "#| exports \n",
    "\n",
    "def calculate_eigenvalues(matrix: list[list[Union[float,int]]] # matrix of size n x n\n",
    "\t\t\t\t\t\t  ) -> list[float]: # result of size 1 x n\n",
    "    np_matrix = np.array(matrix)\n",
    "    if np_matrix.shape[0] != np_matrix.shape[1]:\n",
    "        raise ValueError(\"Eigenvalues are only defined for square matrices.\")\n",
    "    eigenvalues, _ = np.linalg.eig(np_matrix)\n",
    "    return eigenvalues.tolist()\n"
   ]
  }
 ],
 "metadata": {
  "kernelspec": {
   "display_name": "python3",
   "language": "python",
   "name": "python3"
  }
 },
 "nbformat": 4,
 "nbformat_minor": 2
}
