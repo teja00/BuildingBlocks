{
 "cells": [
  {
   "cell_type": "markdown",
   "id": "91595559",
   "metadata": {},
   "source": [
    "# Matrix Inverse\n",
    "\n",
    "> Writing a Python function that calculates the inverse of a 2x2 matrix. Return 'None' if the matrix is not invertible."
   ]
  },
  {
   "cell_type": "markdown",
   "id": "d80b1a2c",
   "metadata": {},
   "source": [
    "\n",
    "The inverse of a matrix \\( A \\) is another matrix, often denoted \\( A^{-1} \\), such that:\n",
    "\n",
    "$$\n",
    "AA^{-1} = A^{-1}A = I\n",
    "$$\n",
    "\n",
    "where \\( I \\) is the identity matrix. For a 2×2 matrix:\n",
    "\n",
    "$$\n",
    "A = \\begin{pmatrix} a & b \\\\ c & d \\end{pmatrix}\n",
    "$$\n",
    "\n",
    "The inverse is given by:\n",
    "\n",
    "$$\n",
    "A^{-1} = \\frac{1}{\\det(A)} \\begin{pmatrix} d & -b \\\\ -c & a \\end{pmatrix}\n",
    "$$\n",
    "\n",
    "provided that the determinant \\( \\det(A) = ad - bc \\) is non-zero.\n",
    "\n",
    "If \\( \\det(A) = 0 \\), the matrix does not have an inverse.\n",
    "\n",
    "---\n",
    "\n",
    "### Importance\n",
    "\n",
    "Calculating the inverse of a matrix is essential in various applications, such as solving systems of linear equations, where the inverse is used to find solutions efficiently.\n",
    "\n"
   ]
  },
  {
   "cell_type": "code",
   "execution_count": null,
   "id": "434ccf6d",
   "metadata": {},
   "outputs": [],
   "source": [
    "#| default_exp matrix_inverse"
   ]
  },
  {
   "cell_type": "code",
   "execution_count": null,
   "id": "035aaef0",
   "metadata": {},
   "outputs": [],
   "source": [
    "#| export\n",
    "from typing import List, Union\n",
    "import numpy as np\n",
    "from BuildingBlocks.matrix_scalar_multiply import *"
   ]
  },
  {
   "cell_type": "code",
   "execution_count": null,
   "id": "57c77909",
   "metadata": {},
   "outputs": [],
   "source": [
    "#| exports\n",
    "\n",
    "def inverse_2x2(matrix: list[list[float]] # matrix to be inverted size (2, 2)\n",
    "\t\t\t\t) -> list[list[float]]: # inverse of the matrix\n",
    "\tmatrix = np.array(matrix)\n",
    "\ta, b, c, d  = matrix.flatten()\n",
    "\tdet = a*d - b*c\n",
    "\tif det == 0:\n",
    "\t\treturn None\n",
    "\tadj_matrix = np.array([[d, -b], [-c, a]])\n",
    "\tinverse = matrix_scalar_multiply_numpy(1/ det, adj_matrix)\n",
    "\treturn inverse"
   ]
  },
  {
   "cell_type": "code",
   "execution_count": null,
   "id": "c5c346ac",
   "metadata": {},
   "outputs": [],
   "source": [
    "#| hide\n",
    "import nbdev; nbdev.nbdev_export()"
   ]
  }
 ],
 "metadata": {
  "kernelspec": {
   "display_name": "python3",
   "language": "python",
   "name": "python3"
  }
 },
 "nbformat": 4,
 "nbformat_minor": 5
}
