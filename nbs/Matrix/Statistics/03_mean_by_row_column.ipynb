{
 "cells": [
  {
   "cell_type": "markdown",
   "metadata": {},
   "source": [
    "# Mean by Row or Column\n",
    "\n",
    "> python function to calculate the mean of a matrix either by row or by column"
   ]
  },
  {
   "cell_type": "code",
   "execution_count": null,
   "metadata": {},
   "outputs": [],
   "source": [
    "#| default_exp mean_row_column"
   ]
  },
  {
   "cell_type": "code",
   "execution_count": null,
   "metadata": {},
   "outputs": [],
   "source": [
    "#| export\n",
    "from typing import List, Union\n",
    "import numpy as np"
   ]
  },
  {
   "cell_type": "code",
   "execution_count": null,
   "metadata": {},
   "outputs": [],
   "source": [
    "#| exports\n",
    "\n",
    "def calculate_matrix_mean(\tmatrix: list[list[Union[int, float]]], # Matrix of size m, n\n",
    "                        \tmode: str # representing column or row\n",
    "\t\t\t\t\t\t  ) -> list[Union[int, float]]: # result of size m, 1 or n, 1\n",
    "    matrix = np.array(matrix)\n",
    "    \n",
    "    if mode == \"row\":\n",
    "        means = [np.mean(row) for row in matrix]\n",
    "    else:  # assume column mode\n",
    "        means = [np.mean(matrix[:, i]) for i in range(matrix.shape[1])]\n",
    "    \n",
    "    return means"
   ]
  },
  {
   "cell_type": "code",
   "execution_count": null,
   "metadata": {},
   "outputs": [],
   "source": [
    "#| hide\n",
    "import nbdev; nbdev.nbdev_export()"
   ]
  }
 ],
 "metadata": {
  "kernelspec": {
   "display_name": "python3",
   "language": "python",
   "name": "python3"
  }
 },
 "nbformat": 4,
 "nbformat_minor": 2
}
