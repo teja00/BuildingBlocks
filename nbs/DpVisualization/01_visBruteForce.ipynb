{
 "cells": [
  {
   "cell_type": "markdown",
   "id": "76a6a347",
   "metadata": {},
   "source": [
    "# Visualizing DP array\n",
    "\n",
    "> a quick handle to visualize the DP array to better understanding"
   ]
  },
  {
   "cell_type": "markdown",
   "id": "5db7170e",
   "metadata": {},
   "source": [
    "## TODO \n",
    "\n",
    "1. I want to create a modular function which automatically detects the dp history array and extra variables and outputs that for easy visualization no matter what DP array code "
   ]
  },
  {
   "cell_type": "code",
   "execution_count": null,
   "id": "e2714bab",
   "metadata": {},
   "outputs": [],
   "source": [
    "#| default_exp visualization_dp"
   ]
  },
  {
   "cell_type": "code",
   "execution_count": null,
   "id": "038f4196",
   "metadata": {},
   "outputs": [],
   "source": [
    "#| export\n",
    "\n",
    "import ipywidgets as widgets\n",
    "from IPython.display import display, clear_output\n",
    "import copy\n",
    "from typing import Union, List, Any"
   ]
  },
  {
   "cell_type": "code",
   "execution_count": null,
   "id": "a12538b8",
   "metadata": {},
   "outputs": [],
   "source": [
    "#| hide\n",
    "\n",
    "def countSubstrings(s: str) -> int:\n",
    "    n, res = len(s), 0\n",
    "    history = []\n",
    "    dp = [[False] * n for _ in range(n)]\n",
    "    history.append(copy.deepcopy(dp))  # Initial state\n",
    "    extra_variables_track = []\n",
    "    extra_variables_track.append((0, 0))  # Track the initial state of i and j\n",
    "    for i in range(n - 1, -1, -1):\n",
    "        for j in range(i, n):\n",
    "            if s[i] == s[j] and (j - i <= 2 or dp[i + 1][j - 1]):\n",
    "                dp[i][j] = True\n",
    "                res += 1\n",
    "                history.append(copy.deepcopy(dp))  # Store a deep copy after each update\n",
    "                extra_variables_track.append((s[i], s[j]))  # Track the current state of i and j\n",
    "\n",
    "    return res, history, extra_variables_track"
   ]
  },
  {
   "cell_type": "code",
   "execution_count": null,
   "id": "f1cf14b4",
   "metadata": {},
   "outputs": [],
   "source": [
    "#| exports\n",
    "\n",
    "from typing import Union, List, Any, Optional\n",
    "\n",
    "DPType = Union[\n",
    "    List[Any],\n",
    "    List[List[Any]],\n",
    "    List[List[List[Any]]]\n",
    "]\n",
    "\n",
    "def visualize_dp_history(\n",
    "    dp_history: DPType,                 # List of DP states (various levels)\n",
    "    extra_vars: Optional[List[Any]] = None  # Optional extra variable tracking\n",
    "): \n",
    "    \"\"\"\n",
    "    Returns a widget to visualize the history of a dynamic programming table.\n",
    "    \n",
    "    Parameters:\n",
    "    - dp_history: A list of DP states (can be 1D, 2D, or 3D).\n",
    "    - extra_vars: (Optional) A list of any extra info (e.g., (i, j) or dicts) to show per step.\n",
    "    \"\"\"\n",
    "\n",
    "    state_index = widgets.IntText(value=0, description=\"Index:\", disabled=True)\n",
    "    output = widgets.Output()\n",
    "\n",
    "    def update_display():\n",
    "        with output:\n",
    "            clear_output(wait=True)\n",
    "            i = state_index.value\n",
    "            print(f\"Step {i}:\")\n",
    "\n",
    "            # Display extra vars if provided\n",
    "            if extra_vars is not None and i < len(extra_vars):\n",
    "                print(f\"Extra: {repr(extra_vars[i])}\")\n",
    "\n",
    "            # Display DP Table\n",
    "            state = dp_history[i]\n",
    "            print(\"DP Table:\")\n",
    "            if isinstance(state, list) and all(isinstance(row, list) for row in state):\n",
    "                for row in state:\n",
    "                    print(row)\n",
    "            else:\n",
    "                print(state)\n",
    "\n",
    "    # Buttons\n",
    "    prev_button = widgets.Button(description=\"Previous\")\n",
    "    next_button = widgets.Button(description=\"Next\")\n",
    "\n",
    "    # Button callbacks\n",
    "    def on_prev_click(b):\n",
    "        if state_index.value > 0:\n",
    "            state_index.value -= 1\n",
    "            update_display()\n",
    "\n",
    "    def on_next_click(b):\n",
    "        if state_index.value < len(dp_history) - 1:\n",
    "            state_index.value += 1\n",
    "            update_display()\n",
    "\n",
    "    # Attach callbacks\n",
    "    prev_button.on_click(on_prev_click)\n",
    "    next_button.on_click(on_next_click)\n",
    "\n",
    "    # Initial display\n",
    "    update_display()\n",
    "\n",
    "    # Layout\n",
    "    controls = widgets.HBox([prev_button, next_button])\n",
    "    display(controls, output)\n"
   ]
  },
  {
   "cell_type": "markdown",
   "id": "f54dac56",
   "metadata": {},
   "source": [
    "## How to Use\n",
    "\n",
    "The `visualize_dp_history` function creates an interactive widget to explore the evolution of a dynamic programming table (`dp`) over time. It is especially useful when you store snapshots of the DP table after each update and want to visualize how the table evolves.\n",
    "\n",
    "### Step-by-Step Example\n",
    "\n",
    "```python\n",
    "import copy\n",
    "from typing import List, Tuple\n",
    "\n",
    "def countSubstrings(s: str) -> Tuple[int, List[List[List[bool]]]]:\n",
    "    n, res = len(s), 0\n",
    "    history = []\n",
    "    dp = [[False] * n for _ in range(n)]\n",
    "    history.append(copy.deepcopy(dp))  # Initial state\n",
    "\n",
    "    for i in range(n - 1, -1, -1):\n",
    "        for j in range(i, n):\n",
    "            if s[i] == s[j] and (j - i <= 2 or dp[i + 1][j - 1]):\n",
    "                dp[i][j] = True\n",
    "                res += 1\n",
    "                history.append(copy.deepcopy(dp))  # Save snapshot\n",
    "\n",
    "    return res, history\n",
    "```\n",
    "\n",
    "### Visualize the DP History\n",
    "\n",
    "After computing the DP history using a function like `countSubstrings`, you can visualize it with:\n",
    "\n",
    "```python\n",
    "res, dp_history = countSubstrings(\"abc\")\n",
    "visualize_dp_history(dp_history)\n",
    "```\n",
    "\n",
    "This will create:\n",
    "\n",
    "* A display of the DP table at each recorded step\n",
    "* `Previous` and `Next` buttons to navigate through the snapshots\n",
    "* Step index shown for reference\n",
    "\n",
    "> The widget automatically adapts to 1D, 2D, or 3D list structures, making it flexible for various types of DP tracking."
   ]
  },
  {
   "cell_type": "code",
   "execution_count": null,
   "id": "b4a9be9f",
   "metadata": {},
   "outputs": [
    {
     "data": {
      "application/vnd.jupyter.widget-view+json": {
       "model_id": "9d1980e8288843eb84c4bb685e9785cf",
       "version_major": 2,
       "version_minor": 0
      },
      "text/plain": [
       "HBox(children=(Button(description='Previous', style=ButtonStyle()), Button(description='Next', style=ButtonSty…"
      ]
     },
     "metadata": {},
     "output_type": "display_data"
    },
    {
     "data": {
      "application/vnd.jupyter.widget-view+json": {
       "model_id": "071898c8b0c04ad9b8063cc1f0920538",
       "version_major": 2,
       "version_minor": 0
      },
      "text/plain": [
       "Output()"
      ]
     },
     "metadata": {},
     "output_type": "display_data"
    }
   ],
   "source": [
    "_, dp_history, extra_val = countSubstrings(\"acbbca\")\n",
    "visualize_dp_history(dp_history, extra_val)\n"
   ]
  },
  {
   "cell_type": "code",
   "execution_count": null,
   "id": "76bc7691",
   "metadata": {},
   "outputs": [],
   "source": [
    "#| hide\n",
    "import nbdev; nbdev.nbdev_export()"
   ]
  }
 ],
 "metadata": {
  "kernelspec": {
   "display_name": "python3",
   "language": "python",
   "name": "python3"
  }
 },
 "nbformat": 4,
 "nbformat_minor": 5
}
