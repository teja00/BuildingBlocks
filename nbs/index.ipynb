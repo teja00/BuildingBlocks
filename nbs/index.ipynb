{
 "cells": [
  {
   "cell_type": "code",
   "execution_count": null,
   "metadata": {},
   "outputs": [],
   "source": [
    "#| hide\n",
    "from BuildingBlocks.matrix_vector_dot_product import *\n",
    "from BuildingBlocks.transpose_matrix import *\n",
    "from BuildingBlocks.reshape_matrix import *\n",
    "from BuildingBlocks.mean_row_column import *\n",
    "import unittest"
   ]
  },
  {
   "cell_type": "markdown",
   "metadata": {},
   "source": [
    "# BuildingBlocks\n",
    "\n",
    "> Creating Simple Implementation in Python to work on Linear Algebra, Statistics using Nbdev"
   ]
  },
  {
   "cell_type": "markdown",
   "metadata": {},
   "source": [
    "## Usage"
   ]
  },
  {
   "cell_type": "markdown",
   "metadata": {},
   "source": [
    "### Installation"
   ]
  },
  {
   "cell_type": "markdown",
   "metadata": {},
   "source": [
    "Install latest from the GitHub [repository][repo]:\n",
    "\n",
    "```sh\n",
    "$ pip install git+https://github.com/teja00/BuildingBlocks.git\n",
    "```\n",
    "\n",
    "or from [conda][conda]\n",
    "\n",
    "```sh\n",
    "$ conda install -c teja00 BuildingBlocks\n",
    "```\n",
    "\n",
    "or from [pypi][pypi]\n",
    "\n",
    "\n",
    "```sh\n",
    "$ pip install BuildingBlocks\n",
    "```\n",
    "\n",
    "\n",
    "[repo]: https://github.com/teja00/BuildingBlocks\n",
    "[docs]: https://teja00.github.io/BuildingBlocks/\n",
    "[pypi]: https://pypi.org/project/BuildingBlocks/\n",
    "[conda]: https://anaconda.org/teja00/BuildingBlocks"
   ]
  },
  {
   "cell_type": "markdown",
   "metadata": {},
   "source": [
    "## Testing "
   ]
  },
  {
   "cell_type": "markdown",
   "metadata": {},
   "source": [
    "Import the following to test out the functionalities\n",
    "\n",
    "```python\n",
    "from BuildingBlocks.matrix_vector_dot_product import *\n",
    "from BuildingBlocks.transpose_matrix import *\n",
    "from BuildingBlocks.reshape_matrix import *\n",
    "from BuildingBlocks.mean_row_column import *\n",
    "```"
   ]
  },
  {
   "cell_type": "markdown",
   "metadata": {},
   "source": [
    "### Unit Test Suite for Matrix dot product Vector"
   ]
  },
  {
   "cell_type": "code",
   "execution_count": null,
   "metadata": {},
   "outputs": [],
   "source": [
    "class TestMatrixDotVector(unittest.TestCase):\n",
    "    \n",
    "    # Tests for matrix_dot_vector\n",
    "    def test_dot_basic(self):\n",
    "        self.assertEqual(matrix_dot_vector([[1, 2], [2, 4]], [1, 2]), [5, 10])\n",
    "\n",
    "    def test_dot_zeros(self):\n",
    "        self.assertEqual(matrix_dot_vector([[0, 0], [0, 0]], [1, 2]), [0, 0])\n",
    "\n",
    "    def test_dot_identity(self):\n",
    "        self.assertEqual(matrix_dot_vector([[1, 0], [0, 1]], [7, 3]), [7, 3])\n",
    "\n",
    "    def test_dot_floats(self):\n",
    "        self.assertEqual(matrix_dot_vector([[1.5, -2], [-3, 4.5]], [2, 1]), [1.0, -1.5])"
   ]
  },
  {
   "cell_type": "markdown",
   "metadata": {},
   "source": [
    "### Unit TestSuite for Transpose Matrix"
   ]
  },
  {
   "cell_type": "code",
   "execution_count": null,
   "metadata": {},
   "outputs": [],
   "source": [
    "class TestMatrixTranspose(unittest.TestCase):\n",
    "    # Tests for transpose_matrix\n",
    "    def test_transpose_square(self):\n",
    "        self.assertEqual(transpose_matrix([[1, 2], [3, 4]]), [[1, 3], [2, 4]])\n",
    "\n",
    "    def test_transpose_rectangle(self):\n",
    "        self.assertEqual(transpose_matrix([[1, 2, 3], [4, 5, 6]]), [[1, 4], [2, 5], [3, 6]])\n",
    "\n",
    "    def test_transpose_single_row(self):\n",
    "        self.assertEqual(transpose_matrix([[1, 2, 3]]), [[1], [2], [3]])\n",
    "\n",
    "    def test_transpose_single_column(self):\n",
    "        self.assertEqual(transpose_matrix([[1], [2], [3]]), [[1, 2, 3]])"
   ]
  },
  {
   "cell_type": "markdown",
   "metadata": {},
   "source": [
    "### Unit TestSuite for Reshaping Matrix"
   ]
  },
  {
   "cell_type": "code",
   "execution_count": null,
   "metadata": {},
   "outputs": [],
   "source": [
    "class TestMatrixReshape(unittest.TestCase):\n",
    "    # Tests for transpose_matrix\n",
    "    def test_reshape_basic(self):\n",
    "        self.assertEqual(reshape_matrix([[1,2,3,4],[5,6,7,8]], (4, 2)), [[1, 2], [3, 4], [5, 6], [7, 8]])\n",
    "\n",
    "    def test_transpose_different_size(self):\n",
    "        self.assertEqual(reshape_matrix([[1, 2, 3, 4], [5, 6, 7, 8]], (1, 4)), [])\n",
    "\n",
    "    def test_transpose_same_size(self):\n",
    "        self.assertEqual(reshape_matrix([[1,2,3,4],[5,6,7,8]], (2, 4)), [[1, 2, 3, 4], [5, 6, 7, 8]])"
   ]
  },
  {
   "cell_type": "markdown",
   "metadata": {},
   "source": [
    "### Unit TestSuite for Mean by Row or column"
   ]
  },
  {
   "cell_type": "code",
   "execution_count": null,
   "metadata": {},
   "outputs": [],
   "source": [
    "class TestMeanMatrix(unittest.TestCase):\n",
    "    # Tests for transpose_matrix\n",
    "    def test_mean_basic(self):\n",
    "        self.assertEqual(calculate_matrix_mean([[1, 2, 3], [4, 5, 6], [7, 8, 9]],'column'), [4.0, 5.0, 6.0])"
   ]
  },
  {
   "cell_type": "code",
   "execution_count": null,
   "metadata": {},
   "outputs": [
    {
     "name": "stderr",
     "output_type": "stream",
     "text": [
      "test_dot_basic (__main__.TestMatrixDotVector) ... ok\n",
      "test_dot_floats (__main__.TestMatrixDotVector) ... ok\n",
      "test_dot_identity (__main__.TestMatrixDotVector) ... ok\n",
      "test_dot_zeros (__main__.TestMatrixDotVector) ... ok\n",
      "test_reshape_basic (__main__.TestMatrixReshape) ... ok\n",
      "test_transpose_different_size (__main__.TestMatrixReshape) ... ok\n",
      "test_transpose_same_size (__main__.TestMatrixReshape) ... ok\n",
      "test_transpose_rectangle (__main__.TestMatrixTranspose) ... ok\n",
      "test_transpose_single_column (__main__.TestMatrixTranspose) ... ok\n",
      "test_transpose_single_row (__main__.TestMatrixTranspose) ... ok\n",
      "test_transpose_square (__main__.TestMatrixTranspose) ... ok\n",
      "test_mean_basic (__main__.TestMeanMatrix) ... ok\n",
      "\n",
      "----------------------------------------------------------------------\n",
      "Ran 12 tests in 0.008s\n",
      "\n",
      "OK\n"
     ]
    },
    {
     "data": {
      "text/plain": [
       "<unittest.main.TestProgram>"
      ]
     },
     "execution_count": null,
     "metadata": {},
     "output_type": "execute_result"
    }
   ],
   "source": [
    "unittest.main(argv=[''], verbosity=2, exit=False)"
   ]
  }
 ],
 "metadata": {
  "kernelspec": {
   "display_name": "python3",
   "language": "python",
   "name": "python3"
  }
 },
 "nbformat": 4,
 "nbformat_minor": 4
}
