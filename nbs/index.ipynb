{
 "cells": [
  {
   "cell_type": "code",
   "execution_count": 7,
   "metadata": {},
   "outputs": [],
   "source": [
    "#| hide\n",
    "from BuildingBlocks.matrix_vector_dot_product import *\n",
    "from BuildingBlocks.transpose_matrix import *\n",
    "from BuildingBlocks.reshape_matrix import *\n",
    "from BuildingBlocks.mean_row_column import *\n",
    "from BuildingBlocks.matrix_scalar_multiply import *\n",
    "from BuildingBlocks.eigen_value_matrix import *\n",
    "from BuildingBlocks.matrix_transformation import *\n",
    "\n",
    "from BuildingBlocks.matrix_inverse import *\n",
    "from BuildingBlocks.matrix_multiply import *\n",
    "\n",
    "import time\n",
    "import torch    \n",
    "import unittest\n",
    "import numpy as np"
   ]
  },
  {
   "cell_type": "markdown",
   "metadata": {},
   "source": [
    "# BuildingBlocks\n",
    "\n",
    "> Creating Simple Implementation in Python to work on Linear Algebra, Statistics using Nbdev"
   ]
  },
  {
   "cell_type": "markdown",
   "metadata": {},
   "source": [
    "## Usage"
   ]
  },
  {
   "cell_type": "markdown",
   "metadata": {},
   "source": [
    "### Installation"
   ]
  },
  {
   "cell_type": "markdown",
   "metadata": {},
   "source": [
    "Install latest from the GitHub [repository][repo]:\n",
    "\n",
    "```sh\n",
    "$ pip install git+https://github.com/teja00/BuildingBlocks.git\n",
    "```\n",
    "\n",
    "or from [conda][conda]\n",
    "\n",
    "```sh\n",
    "$ conda install -c teja00 BuildingBlocks\n",
    "```\n",
    "\n",
    "or from [pypi][pypi]\n",
    "\n",
    "\n",
    "```sh\n",
    "$ pip install BuildingBlocks\n",
    "```\n",
    "\n",
    "\n",
    "[repo]: https://github.com/teja00/BuildingBlocks\n",
    "[docs]: https://teja00.github.io/BuildingBlocks/\n",
    "[pypi]: https://pypi.org/project/BuildingBlocks/\n",
    "[conda]: https://anaconda.org/teja00/BuildingBlocks"
   ]
  },
  {
   "cell_type": "markdown",
   "metadata": {},
   "source": [
    "## Testing "
   ]
  },
  {
   "cell_type": "markdown",
   "metadata": {},
   "source": [
    "Import the following to test out the functionalities\n",
    "\n",
    "```python\n",
    "from BuildingBlocks.matrix_vector_dot_product import *\n",
    "from BuildingBlocks.transpose_matrix import *\n",
    "from BuildingBlocks.reshape_matrix import *\n",
    "from BuildingBlocks.mean_row_column import *\n",
    "from BuildingBlocks.matrix_scalar_multiply import *\n",
    "```"
   ]
  },
  {
   "cell_type": "markdown",
   "metadata": {},
   "source": [
    "### Unit Test Suite for Matrix dot product Vector"
   ]
  },
  {
   "cell_type": "code",
   "execution_count": 8,
   "metadata": {},
   "outputs": [],
   "source": [
    "class TestMatrixDotVector(unittest.TestCase):\n",
    "    \n",
    "    # Tests for matrix_dot_vector\n",
    "    def test_dot_basic(self):\n",
    "        self.assertEqual(matrix_dot_vector([[1, 2], [2, 4]], [1, 2]), [5, 10])\n",
    "\n",
    "    def test_dot_zeros(self):\n",
    "        self.assertEqual(matrix_dot_vector([[0, 0], [0, 0]], [1, 2]), [0, 0])\n",
    "\n",
    "    def test_dot_identity(self):\n",
    "        self.assertEqual(matrix_dot_vector([[1, 0], [0, 1]], [7, 3]), [7, 3])\n",
    "\n",
    "    def test_dot_floats(self):\n",
    "        self.assertEqual(matrix_dot_vector([[1.5, -2], [-3, 4.5]], [2, 1]), [1.0, -1.5])"
   ]
  },
  {
   "cell_type": "markdown",
   "metadata": {},
   "source": [
    "### Unit TestSuite for Transpose Matrix"
   ]
  },
  {
   "cell_type": "code",
   "execution_count": 9,
   "metadata": {},
   "outputs": [],
   "source": [
    "class TestMatrixTranspose(unittest.TestCase):\n",
    "    # Tests for transpose_matrix\n",
    "    def test_transpose_square(self):\n",
    "        self.assertEqual(transpose_matrix([[1, 2], [3, 4]]), [[1, 3], [2, 4]])\n",
    "\n",
    "    def test_transpose_rectangle(self):\n",
    "        self.assertEqual(transpose_matrix([[1, 2, 3], [4, 5, 6]]), [[1, 4], [2, 5], [3, 6]])\n",
    "\n",
    "    def test_transpose_single_row(self):\n",
    "        self.assertEqual(transpose_matrix([[1, 2, 3]]), [[1], [2], [3]])\n",
    "\n",
    "    def test_transpose_single_column(self):\n",
    "        self.assertEqual(transpose_matrix([[1], [2], [3]]), [[1, 2, 3]])"
   ]
  },
  {
   "cell_type": "markdown",
   "metadata": {},
   "source": [
    "### Unit TestSuite for Reshaping Matrix"
   ]
  },
  {
   "cell_type": "code",
   "execution_count": 10,
   "metadata": {},
   "outputs": [],
   "source": [
    "class TestMatrixReshape(unittest.TestCase):\n",
    "    # Tests for transpose_matrix\n",
    "    def test_reshape_basic(self):\n",
    "        self.assertEqual(reshape_matrix([[1,2,3,4],[5,6,7,8]], (4, 2)), [[1, 2], [3, 4], [5, 6], [7, 8]])\n",
    "\n",
    "    def test_transpose_different_size(self):\n",
    "        self.assertEqual(reshape_matrix([[1, 2, 3, 4], [5, 6, 7, 8]], (1, 4)), [])\n",
    "\n",
    "    def test_transpose_same_size(self):\n",
    "        self.assertEqual(reshape_matrix([[1,2,3,4],[5,6,7,8]], (2, 4)), [[1, 2, 3, 4], [5, 6, 7, 8]])"
   ]
  },
  {
   "cell_type": "markdown",
   "metadata": {},
   "source": [
    "### Unit TestSuite for Mean by Row or column"
   ]
  },
  {
   "cell_type": "code",
   "execution_count": 11,
   "metadata": {},
   "outputs": [],
   "source": [
    "class TestMeanMatrix(unittest.TestCase):\n",
    "    # Tests for transpose_matrix\n",
    "    def test_mean_basic(self):\n",
    "        self.assertEqual(calculate_matrix_mean([[1, 2, 3], [4, 5, 6], [7, 8, 9]],'column'), [4.0, 5.0, 6.0])"
   ]
  },
  {
   "cell_type": "markdown",
   "metadata": {},
   "source": [
    "### Unit TestSuite for Matrix Scalar Multiplication"
   ]
  },
  {
   "cell_type": "code",
   "execution_count": 12,
   "metadata": {},
   "outputs": [],
   "source": [
    "class TestMatrixMulScalar(unittest.TestCase):\n",
    "    # Tests for transpose_matrix\n",
    "    def test_mul_scalar_basic(self):\n",
    "        self.assertEqual(matrix_scalar_multiply([[1, 2], [3, 4]], 2), [[2, 4], [6, 8]])\n",
    "    def test_mul_scalar_negative(self):\n",
    "        self.assertEqual(matrix_scalar_multiply([[1, -2], [-3, 4]], -1), [[-1, 2], [3, -4]])\n",
    "    def test_mul_scalar_zero(self):\n",
    "        self.assertEqual(matrix_scalar_multiply([[1, 2], [3, 4]], 0), [[0, 0], [0, 0]])\n",
    "    def test_mul_scalar_float(self):\n",
    "        self.assertEqual(matrix_scalar_multiply([[1.5, -2], [-3, 4.5]], 2.0), [[3.0, -4.0], [-6.0, 9.0]])"
   ]
  },
  {
   "cell_type": "markdown",
   "metadata": {},
   "source": [
    "### Unit TestSuite for Eigen Value Calculation"
   ]
  },
  {
   "cell_type": "code",
   "execution_count": 13,
   "metadata": {},
   "outputs": [],
   "source": [
    "class TestEigenValueMatrix2by2(unittest.TestCase):\n",
    "    def assertListAlmostEqual(self, list1, list2, places=5):\n",
    "        self.assertEqual(len(list1), len(list2))\n",
    "        for a, b in zip(sorted(list1), sorted(list2)):\n",
    "            self.assertAlmostEqual(a, b, places=places)\n",
    "\n",
    "    def test_eigen_value_basic(self):\n",
    "        self.assertListAlmostEqual(calculate_eigenvalues_2by2([[1, 2], [2, 1]]), [3, -1])\n",
    "\n",
    "    def test_eigen_value_zero(self):\n",
    "        self.assertListAlmostEqual(calculate_eigenvalues_2by2([[0, 0], [0, 0]]), [0, 0])\n",
    "\n",
    "    def test_eigen_value_identity(self):\n",
    "        self.assertListAlmostEqual(calculate_eigenvalues_2by2([[1, 0], [0, 1]]), [1, 1])\n",
    "\n",
    "    def test_eigen_value_negative(self):\n",
    "        self.assertListAlmostEqual(calculate_eigenvalues_2by2([[-1, -2], [-2, -1]]), [-3, 1])\n",
    "\n",
    "    def test_eigen_value_float(self):  \n",
    "        self.assertListAlmostEqual(calculate_eigenvalues_2by2([[1.5, -2], [-3, 4.5]]), [5.872281323269014, 0.1277186767309857])\n",
    "\n",
    "    def test_eigen_value_complex(self):\n",
    "        self.assertListAlmostEqual(calculate_eigenvalues_2by2([[1, 2], [2, 1]]), [3, -1])"
   ]
  },
  {
   "cell_type": "markdown",
   "metadata": {},
   "source": [
    "### Unit TestSuite Matrix Transformation"
   ]
  },
  {
   "cell_type": "code",
   "execution_count": 14,
   "metadata": {},
   "outputs": [],
   "source": [
    "class TestMatrixTransformation(unittest.TestCase):\n",
    "    def test_matrix_transformation_test_case_1(self):\n",
    "        A = [[1, 2],\n",
    "             [3, 4]]\n",
    "        T = [[2, 0],\n",
    "             [0, 2]]\n",
    "        S = [[1, 1],\n",
    "             [0, 1]]\n",
    "        result = transform_matrix(A, T, S)\n",
    "        expected = [[0.5, 1.5],\n",
    "                    [1.5, 3.5]]\n",
    "        self.assertTrue(\n",
    "            np.allclose(result, expected),\n",
    "            f\"Expected {expected}, but got {result}\"\n",
    "        )\n",
    "\n",
    "    def test_matrix_transformation_test_case_2(self):\n",
    "        A = [[1, 0],\n",
    "             [0, 1]]\n",
    "        T = [[1, 2],\n",
    "             [3, 4]]\n",
    "        S = [[2, 0],\n",
    "             [0, 2]]\n",
    "        result = transform_matrix(A, T, S)\n",
    "        expected = [[-4.0, 2.0],\n",
    "                    [ 3.0, -1.0]]\n",
    "        self.assertTrue(\n",
    "            np.allclose(result, expected),\n",
    "            f\"Expected {expected}, but got {result}\"\n",
    "        )\n",
    "\n",
    "    def test_matrix_transformation_test_case_3(self):\n",
    "        A = [[2, 3],\n",
    "             [1, 4]]\n",
    "        T = [[3, 0],\n",
    "             [0, 3]]\n",
    "        S = [[1, 1],\n",
    "             [0, 1]]\n",
    "        result = transform_matrix(A, T, S)\n",
    "        expected = [[0.66666667, 1.66666667],\n",
    "                    [0.33333333, 1.66666667]]\n",
    "        self.assertTrue(\n",
    "            np.allclose(result, expected, atol=1e-6),\n",
    "            f\"Expected approx {expected}, but got {result}\"\n",
    "        )"
   ]
  },
  {
   "cell_type": "markdown",
   "metadata": {},
   "source": [
    "### Unit TestSuite Matrix Multiplication "
   ]
  },
  {
   "cell_type": "code",
   "execution_count": 15,
   "metadata": {},
   "outputs": [],
   "source": [
    "  # <- needed to recognise Torch tensors>\n",
    "\n",
    "class TestMatrixMultiplication(unittest.TestCase):\n",
    "    def _to_nested_list(self, obj):\n",
    "        \"\"\"Convert torch.Tensor → nested Python list (else pass through).\"\"\"\n",
    "        if isinstance(obj, torch.Tensor):\n",
    "            return obj.tolist()\n",
    "        return obj\n",
    "\n",
    "    def assertMatrixEqual(self, result, expected):\n",
    "        \"\"\"Wrapper so we can compare list↔tensor transparently.\"\"\"\n",
    "        self.assertEqual(self._to_nested_list(result), expected)\n",
    "\n",
    "    def test_matrix_multiply_basic(self):\n",
    "        A = [[1, 2], [3, 4]]\n",
    "        B = [[5, 6], [7, 8]]\n",
    "        expected = [[19, 22], [43, 50]]\n",
    "\n",
    "        start = time.time()\n",
    "        self.assertMatrixEqual(matrix_multiply(A, B), expected)\n",
    "        print(\"Execution time (pure-py):\", time.time() - start)\n",
    "\n",
    "        start = time.time()\n",
    "        self.assertMatrixEqual(matrix_multiply_torch(A, B), expected)\n",
    "        print(\"Execution time (torch):\", time.time() - start)\n",
    "\n",
    "        start = time.time()\n",
    "        self.assertMatrixEqual(matrix_multiply_torch_optimized(A, B), expected)\n",
    "        print(\"Execution time (torch-opt):\", time.time() - start)\n",
    "\n",
    "        start = time.time()\n",
    "        self.assertMatrixEqual(matrix_multiply_torch_einsum(A, B), expected)\n",
    "        print(\"Execution time (einsum):\", time.time() - start)\n",
    "\n",
    "    def test_matrix_multiply_zeros(self):\n",
    "        self.assertMatrixEqual(\n",
    "            matrix_multiply([[0, 0], [0, 0]], [[1, 2], [3, 4]]),\n",
    "            [[0, 0], [0, 0]]\n",
    "        )\n",
    "\n",
    "    def test_matrix_multiply_identity(self):\n",
    "        self.assertMatrixEqual(\n",
    "            matrix_multiply([[1, 0], [0, 1]], [[5, 6], [7, 8]]),\n",
    "            [[5, 6], [7, 8]]\n",
    "        )\n",
    "\n",
    "    def test_matrix_multiply_non_square(self):\n",
    "        self.assertMatrixEqual(\n",
    "            matrix_multiply([[1, 2]], [[3], [4]]),\n",
    "            [[11]]\n",
    "        )\n",
    "\n",
    "    def test_matrix_multiply_float(self):\n",
    "        A = [[1.5, -2], [-3, 4.5]]\n",
    "        B = [[2], [1]]\n",
    "        expected = [[1.0], [-1.5]]\n",
    "        self.assertMatrixEqual(matrix_multiply(A, B), expected)\n"
   ]
  },
  {
   "cell_type": "markdown",
   "metadata": {},
   "source": [
    "### Testing functionality \n",
    "\n",
    "To test the functionality you can use the below code to run the above tests\n",
    "\n",
    "```python\n",
    "unittest.main(argv=[''], verbosity=2, exit=False)\n",
    "```"
   ]
  },
  {
   "cell_type": "code",
   "execution_count": 16,
   "metadata": {},
   "outputs": [
    {
     "name": "stderr",
     "output_type": "stream",
     "text": [
      "test_eigen_value_basic (__main__.TestEigenValueMatrix2by2.test_eigen_value_basic) ... ok\n",
      "test_eigen_value_complex (__main__.TestEigenValueMatrix2by2.test_eigen_value_complex) ... ok\n",
      "test_eigen_value_float (__main__.TestEigenValueMatrix2by2.test_eigen_value_float) ... ok\n",
      "test_eigen_value_identity (__main__.TestEigenValueMatrix2by2.test_eigen_value_identity) ... ok\n",
      "test_eigen_value_negative (__main__.TestEigenValueMatrix2by2.test_eigen_value_negative) ... ok\n",
      "test_eigen_value_zero (__main__.TestEigenValueMatrix2by2.test_eigen_value_zero) ... ok\n",
      "test_dot_basic (__main__.TestMatrixDotVector.test_dot_basic) ... ok\n",
      "test_dot_floats (__main__.TestMatrixDotVector.test_dot_floats) ... ok\n",
      "test_dot_identity (__main__.TestMatrixDotVector.test_dot_identity) ... ok\n",
      "test_dot_zeros (__main__.TestMatrixDotVector.test_dot_zeros) ... ok\n",
      "test_mul_scalar_basic (__main__.TestMatrixMulScalar.test_mul_scalar_basic) ... ok\n",
      "test_mul_scalar_float (__main__.TestMatrixMulScalar.test_mul_scalar_float) ... ok\n",
      "test_mul_scalar_negative (__main__.TestMatrixMulScalar.test_mul_scalar_negative) ... ok\n",
      "test_mul_scalar_zero (__main__.TestMatrixMulScalar.test_mul_scalar_zero) ... ok\n",
      "test_matrix_multiply_basic (__main__.TestMatrixMultiplication.test_matrix_multiply_basic) ... ok\n",
      "test_matrix_multiply_float (__main__.TestMatrixMultiplication.test_matrix_multiply_float) ... ok\n",
      "test_matrix_multiply_identity (__main__.TestMatrixMultiplication.test_matrix_multiply_identity) ... ok\n",
      "test_matrix_multiply_non_square (__main__.TestMatrixMultiplication.test_matrix_multiply_non_square) ... ok\n",
      "test_matrix_multiply_zeros (__main__.TestMatrixMultiplication.test_matrix_multiply_zeros) ... ok\n",
      "test_reshape_basic (__main__.TestMatrixReshape.test_reshape_basic) ... ok\n",
      "test_transpose_different_size (__main__.TestMatrixReshape.test_transpose_different_size) ... ok\n",
      "test_transpose_same_size (__main__.TestMatrixReshape.test_transpose_same_size) ... ok\n",
      "test_matrix_transformation_test_case_1 (__main__.TestMatrixTransformation.test_matrix_transformation_test_case_1) ... ok\n",
      "test_matrix_transformation_test_case_2 (__main__.TestMatrixTransformation.test_matrix_transformation_test_case_2) ... ok\n",
      "test_matrix_transformation_test_case_3 (__main__.TestMatrixTransformation.test_matrix_transformation_test_case_3) ... ok\n",
      "test_transpose_rectangle (__main__.TestMatrixTranspose.test_transpose_rectangle) ... ok\n",
      "test_transpose_single_column (__main__.TestMatrixTranspose.test_transpose_single_column) ... ok\n",
      "test_transpose_single_row (__main__.TestMatrixTranspose.test_transpose_single_row) ... ok\n",
      "test_transpose_square (__main__.TestMatrixTranspose.test_transpose_square) ... ok\n",
      "test_mean_basic (__main__.TestMeanMatrix.test_mean_basic) ... ok\n",
      "\n",
      "----------------------------------------------------------------------\n",
      "Ran 30 tests in 0.048s\n",
      "\n",
      "OK\n"
     ]
    },
    {
     "name": "stdout",
     "output_type": "stream",
     "text": [
      "Execution time (pure-py): 4.8160552978515625e-05\n",
      "Execution time (torch): 0.0004215240478515625\n",
      "tensor([19., 22.]) tensor([[1],\n",
      "        [2]]) tensor([[5, 6],\n",
      "        [7, 8]])\n",
      "tensor([43., 50.]) tensor([[3],\n",
      "        [4]]) tensor([[5, 6],\n",
      "        [7, 8]])\n",
      "Execution time (torch-opt): 0.0015892982482910156\n",
      "Execution time (einsum): 9.179115295410156e-05\n"
     ]
    },
    {
     "data": {
      "text/plain": [
       "<unittest.main.TestProgram at 0x74b58c67e270>"
      ]
     },
     "execution_count": 16,
     "metadata": {},
     "output_type": "execute_result"
    }
   ],
   "source": [
    "unittest.main(argv=[''], verbosity=2, exit=False)"
   ]
  },
  {
   "cell_type": "code",
   "execution_count": null,
   "metadata": {},
   "outputs": [],
   "source": []
  }
 ],
 "metadata": {
  "kernelspec": {
   "display_name": "base",
   "language": "python",
   "name": "python3"
  },
  "language_info": {
   "codemirror_mode": {
    "name": "ipython",
    "version": 3
   },
   "file_extension": ".py",
   "mimetype": "text/x-python",
   "name": "python",
   "nbconvert_exporter": "python",
   "pygments_lexer": "ipython3",
   "version": "3.12.3"
  }
 },
 "nbformat": 4,
 "nbformat_minor": 4
}
