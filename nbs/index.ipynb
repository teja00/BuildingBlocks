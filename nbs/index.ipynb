{
 "cells": [
  {
   "cell_type": "code",
   "execution_count": null,
   "metadata": {},
   "outputs": [],
   "source": [
    "#| hide\n",
    "from BuildingBlocks.matrix_vector_dot_product import *"
   ]
  },
  {
   "cell_type": "markdown",
   "metadata": {},
   "source": [
    "# BuildingBlocks\n",
    "\n",
    "> Creating Simple Implementation using Pytorch to work on Linear Algebra, Statistics using Nbdev"
   ]
  },
  {
   "cell_type": "markdown",
   "metadata": {},
   "source": [
    "This file will become your README and also the index of your documentation."
   ]
  },
  {
   "cell_type": "markdown",
   "metadata": {},
   "source": [
    "## Developer Guide"
   ]
  },
  {
   "cell_type": "markdown",
   "metadata": {},
   "source": [
    "### Install BuildingBlocks in Development mode"
   ]
  },
  {
   "cell_type": "markdown",
   "metadata": {},
   "source": [
    "```sh\n",
    "# make sure BuildingBlocks package is installed in development mode\n",
    "$ pip install -e .\n",
    "\n",
    "# make changes under nbs/ directory\n",
    "# ...\n",
    "\n",
    "# compile to have changes apply to BuildingBlocks\n",
    "$ nbdev_prepare\n",
    "```"
   ]
  },
  {
   "cell_type": "markdown",
   "metadata": {},
   "source": [
    "## Usage"
   ]
  },
  {
   "cell_type": "markdown",
   "metadata": {},
   "source": [
    "### Installation"
   ]
  },
  {
   "cell_type": "markdown",
   "metadata": {},
   "source": [
    "Install latest from the GitHub [repository][repo]:\n",
    "\n",
    "```sh\n",
    "$ pip install git+https://github.com/teja00/BuildingBlocks.git\n",
    "```\n",
    "\n",
    "or from [conda][conda]\n",
    "\n",
    "```sh\n",
    "$ conda install -c teja00 BuildingBlocks\n",
    "```\n",
    "\n",
    "or from [pypi][pypi]\n",
    "\n",
    "\n",
    "```sh\n",
    "$ pip install BuildingBlocks\n",
    "```\n",
    "\n",
    "\n",
    "[repo]: https://github.com/teja00/BuildingBlocks\n",
    "[docs]: https://teja00.github.io/BuildingBlocks/\n",
    "[pypi]: https://pypi.org/project/BuildingBlocks/\n",
    "[conda]: https://anaconda.org/teja00/BuildingBlocks"
   ]
  },
  {
   "cell_type": "markdown",
   "metadata": {},
   "source": [
    "## Testing Matrix-Vector Dot Product\n",
    "\n",
    "### Initialize a Matrix and a Vector\n",
    "\n",
    "```python\n",
    "# pass test case\n",
    "a = [[1, 2], [2, 4]]\n",
    "b = [1, 2]\n",
    "res = [5, 10]\n",
    "# fail test case\n",
    "a = [[1, 2], [2, 4]]\n",
    "b = [1, 2]\n",
    "res = [5, 11]\n",
    "\n"
   ]
  },
  {
   "cell_type": "code",
   "execution_count": null,
   "metadata": {},
   "outputs": [
    {
     "name": "stdout",
     "output_type": "stream",
     "text": [
      "Test passed!\n"
     ]
    }
   ],
   "source": [
    "result = matrix_dot_vector([[1, 2], [2, 4]], [1, 2])\n",
    "assert result == [5, 10], \"Test failed\"\n",
    "print(\"Test passed!\")\n"
   ]
  },
  {
   "cell_type": "code",
   "execution_count": null,
   "metadata": {},
   "outputs": [
    {
     "ename": "AssertionError",
     "evalue": "Test failed: Expected [5, 11], got [5, 10]",
     "output_type": "error",
     "traceback": [
      "\u001b[0;31m---------------------------------------------------------------------------\u001b[0m",
      "\u001b[0;31mAssertionError\u001b[0m                            Traceback (most recent call last)",
      "Cell \u001b[0;32mIn[11], line 2\u001b[0m\n\u001b[1;32m      1\u001b[0m result \u001b[38;5;241m=\u001b[39m matrix_dot_vector([[\u001b[38;5;241m1\u001b[39m, \u001b[38;5;241m2\u001b[39m], [\u001b[38;5;241m2\u001b[39m, \u001b[38;5;241m4\u001b[39m]], [\u001b[38;5;241m1\u001b[39m, \u001b[38;5;241m2\u001b[39m])\n\u001b[0;32m----> 2\u001b[0m \u001b[38;5;28;01massert\u001b[39;00m result \u001b[38;5;241m==\u001b[39m [\u001b[38;5;241m5\u001b[39m, \u001b[38;5;241m11\u001b[39m], \u001b[38;5;124m\"\u001b[39m\u001b[38;5;124mTest failed: Expected [5, 11], got \u001b[39m\u001b[38;5;124m\"\u001b[39m \u001b[38;5;241m+\u001b[39m \u001b[38;5;28mstr\u001b[39m(result)\n\u001b[1;32m      3\u001b[0m \u001b[38;5;28mprint\u001b[39m(\u001b[38;5;124m\"\u001b[39m\u001b[38;5;124mTest passed!\u001b[39m\u001b[38;5;124m\"\u001b[39m)  \u001b[38;5;66;03m# This won't run\u001b[39;00m\n",
      "\u001b[0;31mAssertionError\u001b[0m: Test failed: Expected [5, 11], got [5, 10]"
     ]
    }
   ],
   "source": [
    "result = matrix_dot_vector([[1, 2], [2, 4]], [1, 2])\n",
    "# assert result == [5, 11], \"Test failed: Expected [5, 11], got \" + str(result)\n",
    "# print(\"Test passed!\")  # This won't run\n"
   ]
  },
  {
   "cell_type": "code",
   "execution_count": null,
   "metadata": {},
   "outputs": [],
   "source": []
  }
 ],
 "metadata": {
  "kernelspec": {
   "display_name": "python3",
   "language": "python",
   "name": "python3"
  }
 },
 "nbformat": 4,
 "nbformat_minor": 4
}
